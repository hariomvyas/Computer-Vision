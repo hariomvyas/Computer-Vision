{
  "nbformat": 4,
  "nbformat_minor": 0,
  "metadata": {
    "colab": {
      "name": "BallTracking_OpenCV.ipynb",
      "provenance": [],
      "collapsed_sections": []
    },
    "kernelspec": {
      "name": "python3",
      "display_name": "Python 3"
    },
    "language_info": {
      "name": "python"
    }
  },
  "cells": [
    {
      "cell_type": "code",
      "source": [
        "!git clone https://github.com/misbah4064/opencvTutorial.git\n",
        "%cd opencvTutorial/\n",
        "from IPython.display import clear_output\n",
        "clear_output()"
      ],
      "metadata": {
        "id": "s0lsc-ONZ9Td"
      },
      "execution_count": 2,
      "outputs": []
    },
    {
      "cell_type": "code",
      "execution_count": 4,
      "metadata": {
        "id": "_OiOXKGPZjWr"
      },
      "outputs": [],
      "source": [
        "## Importing required libraries\n",
        "\n",
        "import cv2\n",
        "import numpy as np\n",
        "from google.colab.patches import cv2_imshow\n",
        "\n",
        "ball = []\n",
        "\n",
        "## Reading Videofile\n",
        "cap = cv2.VideoCapture(\"videos/video.mp4\")\n",
        "\n",
        "out = cv2.VideoWriter('output.avi',cv2.VideoWriter_fourcc('M','J','P','G'),10,(1920,1080))\n",
        "\n",
        "while cap.isOpened():\n",
        "\n",
        "  # Reading frames from videofile\n",
        "  ret, frame = cap.read()\n",
        "\n",
        "  # Break if no frame is returned\n",
        "  if ret is False:\n",
        "    break\n",
        "\n",
        "  hsv = cv2.cvtColor(frame, cv2.COLOR_BGR2HSV)\n",
        "  lower_hue = np.array([21,0,0])\n",
        "  upper_hue = np.array([45,255,255])\n",
        "  mask = cv2.inRange(hsv,lower_hue, upper_hue)\n",
        "\n",
        "  # Finding Contours \n",
        "  (contours,_)=cv2.findContours(mask,cv2.RETR_TREE,cv2.CHAIN_APPROX_SIMPLE)\n",
        "\n",
        "  center = None\n",
        "\n",
        "  if len(contours)>0:\n",
        "    c = max(contours, key=cv2.contourArea)\n",
        "    ((x,y),radius) = cv2.minEnclosingCircle(c)\n",
        "    M = cv2.moments(c)\n",
        "    try:\n",
        "      center = (int(M[\"m10\"]/M[\"m00\"]), int(M[\"m01\"]/M[\"m00\"]))\n",
        "      cv2.circle(frame, center,10, (255,0,0),-1)\n",
        "      ball.append(center)\n",
        "    except:\n",
        "      pass\n",
        "    if len(ball)>2:\n",
        "      for i in range(1,len(ball)):\n",
        "        cv2.line(frame, ball[i-1], ball[i],(0,0,255),5)\n",
        "  out.write(frame)\n",
        "out.release()"
      ]
    },
    {
      "cell_type": "code",
      "source": [
        ""
      ],
      "metadata": {
        "id": "1VOroG7eZ2A8"
      },
      "execution_count": null,
      "outputs": []
    }
  ]
}